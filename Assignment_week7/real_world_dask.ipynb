{
 "cells": [
  {
   "cell_type": "markdown",
   "metadata": {},
   "source": [
    "The goal of this assignment is to read in a large dataset of protein annotation information and to manipulate, summarize and analyze it using Dask Dataframes.\n",
    "\n",
    "Protein annotation is a branch of bioinformatics which classifies the different parts of a protein's structure based on both sequence and functional characteristics. For instance, it recognizes structural elements like trans-membrane helices, but also particular active sites (\"Serine Protease\") and also signal peptides (\"periplasmic membrane tag\"). The holy grail of this field is to use these different annotations of parts of the protein sequence, and to combine them to predict the function of the protein as a whole, without having to carry out actual experiments in the lab.\n",
    "\n",
    "The subject is the output of the InterProScan protein annotation service InterproScan online, NAR article. Briefly, InterPROscan is a meta-annotator: it runs different protein function annotators in turn on an input amino-acid sequence FASTA file and collects the output of each, labelling them with a unique and consistent identifier – the \"InterPRO number\". This service is used to annotate all currently known prokaryotic (Bacteria, Archaea) genomes to investigate better methods of metagenomics sequence annotation.\n",
    "\n",
    "An explanation of the data can be found here\n",
    "\n",
    "2. Deliverables¶\n",
    "\n",
    "Write a script that reads in a InterPROscan output file and answers the questions below. You can test your script on the data-file that you can find at /data/dataprocessing/interproscan/all_bacilli.tsv file on assemblix2012 and assemblix2019. You must use the Dask Dataframe interface to read in and manipulate this file. This file contains ~4,200,000 protein annotations and is around 11GB.\n",
    "\n",
    "How many distinct protein annotations are found in the dataset? I.e. how many distinc InterPRO numbers are there?\n",
    "\n",
    "How many annotations does a protein have on average?\n",
    "\n",
    "What is the most common GO Term found?\n",
    "\n",
    "What is the average size of an InterPRO feature found in the dataset?\n",
    "\n",
    "What is the top 10 most common InterPRO features?\n",
    "\n",
    "If you select InterPRO features that are almost the same size (within 90-100%) as the protein itself, what is the top10 then?\n",
    "\n",
    "If you look at those features which also have textual annotation, what is the top 10 most common word found in that annotation?\n",
    "\n",
    "And the top 10 least common?\n",
    "\n",
    "Combining your answers for Q6 and Q7, what are the 10 most commons words found for the largest InterPRO features?\n",
    "\n",
    "What is the coefficient of correlation () between the size of the protein and the number of features found?\n",
    "\n",
    "Notes: \n",
    "\n",
    "- InterPRO annotations are accession numbers, e.g. IPRO002093) \n",
    "\n",
    "- If a value is missing, a - is displayed. \n",
    "\n",
    "- One cell can contain multiple GO annotations divided by |\n",
    "\n",
    "NB1: Make sure you use the /commons/conda environment\n",
    "\n",
    "NB2: Do not download the file on your local machine, but work on it from the server. You can configure VSCode on your machine to connect (via ssh) to assemblix2019.\n",
    "\n",
    "NB3: Use only 16 threads maximum: dask.dataframe.compute(num_workers=16)"
   ]
  },
  {
   "cell_type": "code",
   "execution_count": 21,
   "metadata": {},
   "outputs": [
    {
     "data": {
      "text/plain": [
       "()"
      ]
     },
     "execution_count": 21,
     "metadata": {},
     "output_type": "execute_result"
    }
   ],
   "source": [
    "import dask.dataframe as ddf\n",
    "ddf.compute(num_workers=16)\n"
   ]
  },
  {
   "cell_type": "code",
   "execution_count": 22,
   "metadata": {},
   "outputs": [
    {
     "data": {
      "text/html": [
       "<div>\n",
       "<style scoped>\n",
       "    .dataframe tbody tr th:only-of-type {\n",
       "        vertical-align: middle;\n",
       "    }\n",
       "\n",
       "    .dataframe tbody tr th {\n",
       "        vertical-align: top;\n",
       "    }\n",
       "\n",
       "    .dataframe thead th {\n",
       "        text-align: right;\n",
       "    }\n",
       "</style>\n",
       "<table border=\"1\" class=\"dataframe\">\n",
       "  <thead>\n",
       "    <tr style=\"text-align: right;\">\n",
       "      <th></th>\n",
       "      <th>protein_accession</th>\n",
       "      <th>MD5</th>\n",
       "      <th>length</th>\n",
       "      <th>analysis</th>\n",
       "      <th>signature_accession</th>\n",
       "      <th>signature_description</th>\n",
       "      <th>start_loc</th>\n",
       "      <th>stop_loc</th>\n",
       "      <th>score</th>\n",
       "      <th>status</th>\n",
       "      <th>date</th>\n",
       "      <th>ip_annot_accession</th>\n",
       "      <th>ip_annot_desc</th>\n",
       "      <th>GO annotations</th>\n",
       "      <th>Pathways annotations</th>\n",
       "    </tr>\n",
       "  </thead>\n",
       "  <tbody>\n",
       "    <tr>\n",
       "      <th>0</th>\n",
       "      <td>gi|29898682|gb|AAP11954.1|</td>\n",
       "      <td>92d1264e347e149248231cb9b649388c</td>\n",
       "      <td>547</td>\n",
       "      <td>TIGRFAM</td>\n",
       "      <td>TIGR03882</td>\n",
       "      <td>cyclo_dehyd_2: bacteriocin biosynthesis cyclod...</td>\n",
       "      <td>2</td>\n",
       "      <td>131</td>\n",
       "      <td>1.6E-21</td>\n",
       "      <td>T</td>\n",
       "      <td>25-04-2022</td>\n",
       "      <td>IPR022291</td>\n",
       "      <td>Bacteriocin biosynthesis, cyclodehydratase domain</td>\n",
       "      <td>-</td>\n",
       "      <td>-</td>\n",
       "    </tr>\n",
       "    <tr>\n",
       "      <th>1</th>\n",
       "      <td>gi|29898682|gb|AAP11954.1|</td>\n",
       "      <td>92d1264e347e149248231cb9b649388c</td>\n",
       "      <td>547</td>\n",
       "      <td>TIGRFAM</td>\n",
       "      <td>TIGR03604</td>\n",
       "      <td>TOMM_cyclo_SagD: thiazole/oxazole-forming pept...</td>\n",
       "      <td>161</td>\n",
       "      <td>547</td>\n",
       "      <td>0.0</td>\n",
       "      <td>T</td>\n",
       "      <td>25-04-2022</td>\n",
       "      <td>IPR027624</td>\n",
       "      <td>Thiazole/oxazole-forming peptide maturase, Sag...</td>\n",
       "      <td>-</td>\n",
       "      <td>-</td>\n",
       "    </tr>\n",
       "    <tr>\n",
       "      <th>2</th>\n",
       "      <td>gi|29898682|gb|AAP11954.1|</td>\n",
       "      <td>92d1264e347e149248231cb9b649388c</td>\n",
       "      <td>547</td>\n",
       "      <td>ProSiteProfiles</td>\n",
       "      <td>PS51664</td>\n",
       "      <td>YcaO domain profile.</td>\n",
       "      <td>159</td>\n",
       "      <td>547</td>\n",
       "      <td>75.396477</td>\n",
       "      <td>T</td>\n",
       "      <td>25-04-2022</td>\n",
       "      <td>IPR003776</td>\n",
       "      <td>YcaO-like domain</td>\n",
       "      <td>-</td>\n",
       "      <td>-</td>\n",
       "    </tr>\n",
       "    <tr>\n",
       "      <th>3</th>\n",
       "      <td>gi|29898682|gb|AAP11954.1|</td>\n",
       "      <td>92d1264e347e149248231cb9b649388c</td>\n",
       "      <td>547</td>\n",
       "      <td>Gene3D</td>\n",
       "      <td>G3DSA:3.30.160.660</td>\n",
       "      <td>-</td>\n",
       "      <td>311</td>\n",
       "      <td>452</td>\n",
       "      <td>9.1E-46</td>\n",
       "      <td>T</td>\n",
       "      <td>25-04-2022</td>\n",
       "      <td>-</td>\n",
       "      <td>-</td>\n",
       "      <td>NaN</td>\n",
       "      <td>NaN</td>\n",
       "    </tr>\n",
       "    <tr>\n",
       "      <th>4</th>\n",
       "      <td>gi|29898682|gb|AAP11954.1|</td>\n",
       "      <td>92d1264e347e149248231cb9b649388c</td>\n",
       "      <td>547</td>\n",
       "      <td>Gene3D</td>\n",
       "      <td>G3DSA:3.30.40.250</td>\n",
       "      <td>-</td>\n",
       "      <td>191</td>\n",
       "      <td>274</td>\n",
       "      <td>9.1E-46</td>\n",
       "      <td>T</td>\n",
       "      <td>25-04-2022</td>\n",
       "      <td>-</td>\n",
       "      <td>-</td>\n",
       "      <td>NaN</td>\n",
       "      <td>NaN</td>\n",
       "    </tr>\n",
       "  </tbody>\n",
       "</table>\n",
       "</div>"
      ],
      "text/plain": [
       "            protein_accession                               MD5  length  \\\n",
       "0  gi|29898682|gb|AAP11954.1|  92d1264e347e149248231cb9b649388c     547   \n",
       "1  gi|29898682|gb|AAP11954.1|  92d1264e347e149248231cb9b649388c     547   \n",
       "2  gi|29898682|gb|AAP11954.1|  92d1264e347e149248231cb9b649388c     547   \n",
       "3  gi|29898682|gb|AAP11954.1|  92d1264e347e149248231cb9b649388c     547   \n",
       "4  gi|29898682|gb|AAP11954.1|  92d1264e347e149248231cb9b649388c     547   \n",
       "\n",
       "          analysis signature_accession  \\\n",
       "0          TIGRFAM           TIGR03882   \n",
       "1          TIGRFAM           TIGR03604   \n",
       "2  ProSiteProfiles             PS51664   \n",
       "3           Gene3D  G3DSA:3.30.160.660   \n",
       "4           Gene3D   G3DSA:3.30.40.250   \n",
       "\n",
       "                               signature_description  start_loc  stop_loc  \\\n",
       "0  cyclo_dehyd_2: bacteriocin biosynthesis cyclod...          2       131   \n",
       "1  TOMM_cyclo_SagD: thiazole/oxazole-forming pept...        161       547   \n",
       "2                               YcaO domain profile.        159       547   \n",
       "3                                                  -        311       452   \n",
       "4                                                  -        191       274   \n",
       "\n",
       "       score status        date ip_annot_accession  \\\n",
       "0    1.6E-21      T  25-04-2022          IPR022291   \n",
       "1        0.0      T  25-04-2022          IPR027624   \n",
       "2  75.396477      T  25-04-2022          IPR003776   \n",
       "3    9.1E-46      T  25-04-2022                  -   \n",
       "4    9.1E-46      T  25-04-2022                  -   \n",
       "\n",
       "                                       ip_annot_desc GO annotations  \\\n",
       "0  Bacteriocin biosynthesis, cyclodehydratase domain              -   \n",
       "1  Thiazole/oxazole-forming peptide maturase, Sag...              -   \n",
       "2                                   YcaO-like domain              -   \n",
       "3                                                  -            NaN   \n",
       "4                                                  -            NaN   \n",
       "\n",
       "  Pathways annotations  \n",
       "0                    -  \n",
       "1                    -  \n",
       "2                    -  \n",
       "3                  NaN  \n",
       "4                  NaN  "
      ]
     },
     "execution_count": 22,
     "metadata": {},
     "output_type": "execute_result"
    }
   ],
   "source": [
    "header = ['protein_accession', 'MD5', 'length', 'analysis', \n",
    "          'signature_accession', 'signature_description', 'start_loc', \n",
    "          'stop_loc', 'score', 'status', 'date', 'ip_annot_accession',\n",
    "          'ip_annot_desc',\"GO annotations\",\"Pathways annotations\"]\n",
    "\n",
    "dtypes = {'protein_accession':str, 'MD5':str, 'length':int, 'analysis':str, \n",
    "          'signature_accession':str, 'signature_description':str, 'start_loc':int, \n",
    "          'stop_loc':int, 'score':str, 'status':str, 'date':str, 'ip_annot_accession':str,\n",
    "          'ip_annot_desc':str}\n",
    "\n",
    "ipro_ddf = ddf.read_table(\"/data/dataprocessing/interproscan/all_bacilli.tsv\",header=None, names=header, dtype=dtypes, delimiter=\"\\t\", quoting=3)\n",
    "\n",
    "\n",
    "ipro_ddf.head()"
   ]
  },
  {
   "cell_type": "code",
   "execution_count": 23,
   "metadata": {},
   "outputs": [
    {
     "name": "stdout",
     "output_type": "stream",
     "text": [
      "Unique interPRO numbers: 9704\n",
      "Unique protein numbers: 365570\n",
      "Amount of annotations per protein on average: 37\n"
     ]
    }
   ],
   "source": [
    "# 1. How many distinct protein annotations are found in the dataset? I.e. how many distinc InterPRO numbers are there?\n",
    "# 2. How many annotations does a protein have on average?\n",
    "ip_annot_num = ipro_ddf[\"ip_annot_accession\"].nunique().compute()\n",
    "prot_annot_num = ipro_ddf[\"protein_accession\"].nunique().compute()\n",
    "print(f'Unique interPRO numbers: {ip_annot_num}\\n'\n",
    "      f'Unique protein numbers: {prot_annot_num}\\n'\n",
    "      f'Amount of annotations per protein on average: {prot_annot_num//ip_annot_num}')"
   ]
  },
  {
   "cell_type": "code",
   "execution_count": 24,
   "metadata": {},
   "outputs": [
    {
     "name": "stdout",
     "output_type": "stream",
     "text": [
      "Most common GO term: GO:0005524\n"
     ]
    }
   ],
   "source": [
    "# 3. What is the most common GO Term found?\n",
    "val_counts = ipro_ddf[\"GO annotations\"].value_counts().compute()\n",
    "val_counts = val_counts[1:]\n",
    "separated_val_counts = {key:0 for key in [key for keys in list(val_counts.keys()) for key in keys.split('|')]}\n",
    "\n",
    "for keys, value in val_counts.items():\n",
    "    for key in keys.split('|'):\n",
    "        separated_val_counts[key] += value\n",
    "\n",
    "print(f'Most common GO term: {max(separated_val_counts,key=separated_val_counts.get)}')"
   ]
  },
  {
   "cell_type": "code",
   "execution_count": 25,
   "metadata": {},
   "outputs": [
    {
     "name": "stdout",
     "output_type": "stream",
     "text": [
      "average size of an InterPRO feature: 184.33\n"
     ]
    }
   ],
   "source": [
    "# 4. What is the average size of an InterPRO feature found in the dataset?\n",
    "ip_size = ipro_ddf.groupby('ip_annot_accession').mean().compute()\n",
    "ip_size[\"feature_length\"] = ip_size[\"stop_loc\"] - ip_size[\"start_loc\"]\n",
    "ip_size.drop('-', inplace=True)\n",
    "print(f\"average size of an InterPRO feature: {ip_size['feature_length'].mean():.05}\")\n",
    "\n",
    "\n"
   ]
  },
  {
   "cell_type": "code",
   "execution_count": 26,
   "metadata": {},
   "outputs": [
    {
     "name": "stdout",
     "output_type": "stream",
     "text": [
      "Top 10 most common IP features:\n",
      "IPR027417    46834\n",
      "IPR002347    18077\n",
      "IPR003439    16944\n",
      "IPR036388    16291\n",
      "IPR036259    12602\n",
      "IPR003593    11521\n",
      "IPR036390    11304\n",
      "IPR036291    10716\n",
      "IPR000515    10613\n",
      "IPR001789    10471\n",
      "Name: ip_annot_accession, dtype: int64\n"
     ]
    }
   ],
   "source": [
    "# 5. What is the top 10 most common InterPRO features?\n",
    "ip_counts = ipro_ddf[\"ip_annot_accession\"].value_counts().compute()\n",
    "\n",
    "print(f'Top 10 most common IP features:\\n{ip_counts[1:11]}')"
   ]
  },
  {
   "cell_type": "code",
   "execution_count": 27,
   "metadata": {},
   "outputs": [
    {
     "name": "stdout",
     "output_type": "stream",
     "text": [
      "Top 10 most common IP features > 90% protein length:\n",
      "IPR034660    2040\n",
      "IPR039420    1968\n",
      "IPR004761    1454\n",
      "IPR029056    1409\n",
      "IPR036812    1291\n",
      "IPR000944    1261\n",
      "IPR036380    1129\n",
      "IPR017439    1124\n",
      "IPR004995    1062\n",
      "IPR003188    1059\n",
      "Name: ip_annot_accession, dtype: int64\n"
     ]
    }
   ],
   "source": [
    "# 6. If you select InterPRO features that are almost the same size (within 90-100%) as the protein itself, what is the top10 then.\n",
    "\n",
    "ip_size = ip_size[ip_size[\"feature_length\"] > (ip_size[\"length\"]*.9)].reset_index()\n",
    "\n",
    "\n",
    "filt_ip_counts = ip_counts[ip_counts.index.isin(ip_size[\"ip_annot_accession\"])]\n",
    "\n",
    "print(f'Top 10 most common IP features > 90% protein length:\\n{filt_ip_counts[1:11]}')"
   ]
  },
  {
   "cell_type": "code",
   "execution_count": 30,
   "metadata": {},
   "outputs": [
    {
     "name": "stdout",
     "output_type": "stream",
     "text": [
      "Top 10 most common words in IP annot description:\n",
      "domain         636803\n",
      "superfamily    322262\n",
      "protein        215412\n",
      "c-terminal     100810\n",
      "site            74709\n",
      "hydrolase       73452\n",
      "dna-binding     64627\n",
      "n-terminal      64427\n",
      "type            58783\n",
      "conserved       57523\n",
      "Name: ip_annot_desc, dtype: int64\n"
     ]
    }
   ],
   "source": [
    "# 7. If you look at those features which also have textual annotation, what is the top 10 most common word found in that annotation?\n",
    "word_counts = ipro_ddf['ip_annot_desc'].str.lower().replace(',', '').str.split().explode().value_counts().compute()\n",
    "\n",
    "\n",
    "print(f'Top 10 most common words in IP annot description:\\n{word_counts[1:11]}')\n"
   ]
  },
  {
   "cell_type": "code",
   "execution_count": 31,
   "metadata": {},
   "outputs": [
    {
     "name": "stdout",
     "output_type": "stream",
     "text": [
      "Top 10 least common words in IP annot description:\n",
      "chp04141            1\n",
      "hygromycin-b        1\n",
      "napa-like,          1\n",
      "hyicolysin          1\n",
      "deda                1\n",
      "hypoxanthine-dna    1\n",
      "hypx/hoxx           1\n",
      "defence             1\n",
      "deficient           1\n",
      "i-b/tneap           1\n",
      "Name: ip_annot_desc, dtype: int64\n"
     ]
    }
   ],
   "source": [
    "# 8. And the top 10 least common?\n",
    "\n",
    "print(f'Top 10 least common words in IP annot description:\\n{word_counts[:-11:-1]}')"
   ]
  },
  {
   "cell_type": "code",
   "execution_count": 32,
   "metadata": {},
   "outputs": [
    {
     "name": "stdout",
     "output_type": "stream",
     "text": [
      "Top 10 most common words in IPs > 90% of protein, annot description:\n",
      "superfamily    34027\n",
      "domain         20306\n",
      "subunit        19550\n",
      "family         17339\n",
      "ribosomal      15644\n",
      "synthase       13459\n",
      "type           10183\n",
      "of              9784\n",
      "unknown         9266\n",
      "function        8986\n",
      "Name: ip_annot_desc, dtype: int64\n"
     ]
    }
   ],
   "source": [
    "# 9. Combining your answers for Q6 and Q7, what are the 10 most commons words found for the largest InterPRO features?\n",
    "\n",
    "filt_ip_words = ipro_ddf['ip_annot_desc'][ipro_ddf[\"ip_annot_accession\"].isin(ip_size[\"ip_annot_accession\"])].str.lower().replace(',', '').str.split().explode().value_counts().compute()\n",
    "\n",
    "print(f'Top 10 most common words in IPs > 90% of protein, annot description:\\n{filt_ip_words[1:11]}')"
   ]
  },
  {
   "cell_type": "code",
   "execution_count": 59,
   "metadata": {},
   "outputs": [
    {
     "name": "stdout",
     "output_type": "stream",
     "text": [
      "The R squared correlation coefficient between protein length and number of features: 0.408\n"
     ]
    }
   ],
   "source": [
    "# Count the number of rows with the same 'Protein Accession'\n",
    "count_df = ipro_ddf.groupby('protein_accession').size().reset_index().compute()\n",
    "\n",
    "# Merge the count DataFrame with the original DataFrame on 'Protein Accession'\n",
    "prot_count_length_df = ddf.merge(count_df, ipro_ddf[['protein_accession','length']], on='protein_accession').drop_duplicates('protein_accession').compute()\n",
    "\n",
    "prot_count_length_df.rename(columns={0:'count'},inplace=True)\n",
    "\n",
    "corr = prot_count_length_df['length'].corr(prot_count_length_df['count'])\n",
    "\n",
    "print(f'The R squared correlation coefficient between protein length and number of features: {corr**2:.03}')\n",
    "\n"
   ]
  }
 ],
 "metadata": {
  "kernelspec": {
   "display_name": "Python 3.10.8 ('testenvironment')",
   "language": "python",
   "name": "python3"
  },
  "language_info": {
   "codemirror_mode": {
    "name": "ipython",
    "version": 3
   },
   "file_extension": ".py",
   "mimetype": "text/x-python",
   "name": "python",
   "nbconvert_exporter": "python",
   "pygments_lexer": "ipython3",
   "version": "3.10.8"
  },
  "orig_nbformat": 4,
  "vscode": {
   "interpreter": {
    "hash": "15931b5d0b1f46c7898b0adb0bc6446bb142ec6dd65b84f2c23802f32d57ca25"
   }
  }
 },
 "nbformat": 4,
 "nbformat_minor": 2
}
